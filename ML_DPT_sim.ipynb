{
 "cells": [
  {
   "cell_type": "markdown",
   "metadata": {},
   "source": [
    "# Can Neural Networks detect Dynamical Phase Transitions ?\n",
    "\n",
    "Can the recurrent neural network protocol developed by Evert et. al \\cite{Evert2018PRB} detect dynamical phase transitions ? There are several questions one can probe here:\n",
    "\\begin{enumerate}\n",
    "\\item Does the RNN correctly predict the phase transition? Quenches across the critical point have non-analyticities.\n",
    "\\item What do the Neurons learn? Can they predict the time at which the non-analyticities appear ?\n",
    "\\end{enumerate}"
   ]
  },
  {
   "cell_type": "markdown",
   "metadata": {},
   "source": [
    "# Code to simulate NN Transverse Field Ising model\n",
    "We have the following Hamiltonian\n",
    "\\begin{align}\n",
    "H&=-J\\sum_{i} \\sigma_{i}^{x}\\sigma_{i+1}^{x}-\\Gamma\\sum_{i}\\sigma_{i}^{z}\n",
    "\\end{align}\n",
    "\n",
    "Now we recall the main results for diagonalizing the TFIM. With the Jordan-Wigner Transform, we get\n",
    "\\begin{align}\n",
    "H_{\\eta}=J\\sum_{i=1}^{L-1}\\left(a_{\\eta,i}-a_{\\eta,i}^{\\dagger}\\right)\\left(a_{\\eta,i+1}+a_{\\eta,i+1}^{\\dagger}\\right)+B\\sum_{i=1}^{L}\\left(2a_{\\eta,i}^{\\dagger}a_{\\eta,i}-1\\right)+\\eta\\left(a_{\\eta,L}-a_{\\eta,L}^{\\dagger}\\right)\\left(a_{\\eta,1}+a_{\\eta,1}^{\\dagger}\\right)\n",
    "\\end{align}\n",
    "where, $\\eta=\\pm 1$ denotes the even and odd parity sector. We will focus largely on $\\eta=1$.\n",
    "\n",
    "Now, we diagonalize the above Hamiltonian to obtain the dispersion,\n",
    "\\begin{align}\n",
    "H_{\\eta}&=\\frac{N\\Gamma}{2}+\\sum_{q_{\\eta}>0}\\omega_{q_{\\eta}}\\left(\\gamma_{\\eta,q_{\\eta}}^{\\dagger}\\gamma_{\\eta,q_{\\eta}}+\\gamma_{\\eta,-q_{\\eta}}^{\\dagger}\\gamma_{\\eta,-q_{\\eta}}-1\\right)\\\\\n",
    "\\gamma_{\\eta,q_{\\eta}}&=u_{q_{\\eta}}b_{\\eta,q{}_{\\eta}}+iv_{q_{\\eta}}b_{\\eta,-q{}_{\\eta}}^{\\dagger}\\\\\n",
    "    \\omega_{q_{\\eta}}&=2\\sqrt{\\Gamma^{2}-2\\Gamma J\\cos q_{\\eta}+J^{2}} \\\\\n",
    "|\\phi_{\\rm GS}\\rangle&=\\frac{1}{\\left|v_{q_{\\eta}}\\right|}\\prod_{q_{\\eta}>0}\\gamma_{q_{\\eta}}\\gamma_{-q_{\\eta}}|0\\rangle\\\\\n",
    " u_{q_{\\eta}}=\\cos\\theta_{q_{\\eta}},\\ \\  v_{q_{\\eta}}=\\sin\\theta_{q_{\\eta}}& \\ \\ \\ \\tan2\\theta_{q_{\\eta}}=\\frac{J\\sin q_{\\eta}}{\\Gamma-J\\cos q_{\\eta}}\n",
    "\\end{align}\n",
    "with, $q_{\\eta}=\\left(2m+\\frac{1}{2}\\left(\\eta-1\\right)\\right)\\frac{\\pi}{L}$.   with $\\eta=1$\n",
    "\n",
    " \\underline{Quench Dynamics}\n",
    "\n",
    "Now, to discuss quench dynamics from $\\Gamma_0 \\rightarrow \\Gamma$. Let the angle change from $\\theta_{q0}\\rightarrow \\theta_q$. Defining $\\alpha_q=\\theta_q-\\theta_{q0}$, we have the initial state as the ground state.\n",
    "\\begin{align}\n",
    "|\\psi_{\\rm in}\\rangle=\\prod_{q>0}(\\cos\\alpha_q+i\\sin\\alpha_q \\gamma^\\dagger_q\\gamma^\\dagger_{-q})|\\phi_{\\rm GS}\\rangle\n",
    "\\end{align}\n",
    "\n",
    "\n",
    "The Loschmidt Echo is given as,\n",
    "\\begin{align}\n",
    "\\Lambda(t)=\\left|\\left(\\langle \\psi_{\\rm in} |\\exp (-iHt)|\\psi_{\\rm in}\\rangle\\right)\\right|^2 = \\prod_{q>0} [1-\\sin^2(2\\alpha_q)\\sin^2(\\omega_qt)]\n",
    "\\end{align}\n",
    "\n",
    "For the DPT, non-analyticities show up at specific times,\n",
    "\\begin{align}\n",
    "t=t^*\\left(n+\\frac{1}{2}\\right)\n",
    "\\end{align}\n",
    "with $t^*=\\frac{2\\pi}{\\omega_{q^*}}$ and $\\cos q^*=\\frac{1+\\Gamma_0 \\Gamma/J_0J}{\\Gamma_0/J_0 + \\Gamma/J}$"
   ]
  },
  {
   "cell_type": "code",
   "execution_count": 5,
   "metadata": {
    "scrolled": true
   },
   "outputs": [],
   "source": [
    "import numpy as np\n",
    "from scipy import linalg as LA\n",
    "import scipy.sparse.linalg as spla\n",
    "from scipy import optimize as OPT\n",
    "from matplotlib import pyplot as plt\n",
    "from matplotlib.pyplot import cm \n",
    "from latex_envs.latex_envs import figcaption\n",
    "from scipy.special import binom as bm\n",
    "from sympy.physics.quantum.cg import CG\n",
    "import numpy.matlib\n",
    "import mod_TFIM_v0 as TFIM  #Import this module to calculate properties of TFIM\n",
    "import os\n",
    "import h5py\n",
    "import types\n",
    "#for Latex font on figures\n",
    "from matplotlib import rc\n",
    "rc('font',**{'family':'sans-serif','sans-serif':['Roman']})\n",
    "rc('text', usetex=True)"
   ]
  },
  {
   "cell_type": "code",
   "execution_count": 16,
   "metadata": {},
   "outputs": [
    {
     "name": "stdout",
     "output_type": "stream",
     "text": [
      "<function Log_Loschmidt_Echo_TFIM at 0x7fb7a66bbea0>\n",
      "<function arrtostr at 0x7fb7a29c06a8>\n",
      "<function save_data_LEt at 0x7fb7a29c0bf8>\n"
     ]
    }
   ],
   "source": [
    "#list of functions in the module\n",
    "listoffunctions=[getattr(TFIM, a) for a in dir(TFIM)  if isinstance(getattr(TFIM, a), types.FunctionType)]\n",
    "for p in listoffunctions:\n",
    "    print(p)"
   ]
  },
  {
   "cell_type": "code",
   "execution_count": 26,
   "metadata": {},
   "outputs": [
    {
     "name": "stdout",
     "output_type": "stream",
     "text": [
      "1000\r"
     ]
    },
    {
     "data": {
      "image/png": "[encoded data removed]",
      "text/plain": [
       "<matplotlib.figure.Figure at 0x7fb7a0720518>"
      ]
     },
     "metadata": {},
     "output_type": "display_data"
    }
   ],
   "source": [
    "######################Parameter definitions###################\n",
    "#Global definitions\n",
    "L=2000 #System size\n",
    "η=1 #parity sector\n",
    "T=10.\n",
    "dt=0.01\n",
    "paramvals0=TFIM.TFIM_Ham_params(J=1,Γ=0)#iniitial state (ground state of Hamiltonian)\n",
    "paramvalsf=TFIM.TFIM_Ham_params(J=1,Γ=1.7)#quench Hamiltonian\n",
    "#define arrays\n",
    "tarr=np.linspace(0,T,int((T-0+dt)/dt))\n",
    "logΛarr=np.zeros(np.size(tarr))\n",
    "for (t,p) in zip(tarr,range(np.size(tarr))):\n",
    "    print(p, end='\\r', flush=True)\n",
    "    logΛarr[p]=TFIM.Log_Loschmidt_Echo_TFIM(t,paramvals0,paramvalsf,L,η)\n",
    "\n",
    "plt.plot(tarr,(-1/L)*logΛarr,'-',linewidth=2)\n",
    "plt.xlabel(\"${\\\\rm Time}\\\\  (1/J)$\",fontsize=25)\n",
    "plt.ylabel(\"$-\\\\frac{1}{L}\\\\log|\\\\langle\\\\psi(t)|\\\\psi(0)\\\\rangle|^2$\",fontsize=25)\n",
    "plt.title(\"Quench from $\\\\{\\\\Gamma=%.2f\\\\}\\\\rightarrow \\\\{\\\\Gamma=%.2f\\\\}$ with $L=%d$\"%(paramvals0.Γ,paramvalsf.Γ,L),fontsize=15)\n",
    "#TFIM.save_data_LEt(paramvals0,paramvalsf,logΛarr,tarr)\n",
    "\n",
    "#analytical comparison\n",
    "cosqstar=(1+(paramvals0.Γ/paramvals0.J)*(paramvalsf.Γ/paramvalsf.J))/(paramvals0.Γ/paramvals0.J +paramvalsf.Γ/paramvalsf.J)\n",
    "ωqstar=2*np.sqrt(paramvalsf.Γ**2+paramvalsf.J**2-2*paramvalsf.Γ*paramvalsf.J*(cosqstar))\n",
    "tstar=2*np.pi/ωqstar\n",
    "for n in range(3):\n",
    "    plt.axvline(tstar*(n+0.5),linestyle=\"dashed\",color=\"red\",linewidth=2)"
   ]
  },
  {
   "cell_type": "markdown",
   "metadata": {},
   "source": [
    "# References\n",
    "\n",
    "[<a id=\"cit-Evert2018PRB\" href=\"#call-Evert2018PRB\">1</a>] van Nieuwenburg Evert, Bairey Eyal and Refael Gil, ``_Learning phase transitions from dynamics_'', Phys. Rev. B, vol. 98, number , pp. 060301, Aug 2018.  [online](https://link.aps.org/doi/10.1103/PhysRevB.98.060301)\n",
    "\n"
   ]
  }
 ],
 "metadata": {
  "kernelspec": {
   "display_name": "Python 3",
   "language": "python",
   "name": "python3"
  },
  "language_info": {
   "codemirror_mode": {
    "name": "ipython",
    "version": 3
   },
   "file_extension": ".py",
   "mimetype": "text/x-python",
   "name": "python",
   "nbconvert_exporter": "python",
   "pygments_lexer": "ipython3",
   "version": "3.5.2"
  },
  "latex_envs": {
   "LaTeX_envs_menu_present": true,
   "autoclose": false,
   "autocomplete": true,
   "bibliofile": "refs_ML_DPT.bib",
   "cite_by": "number",
   "current_citInitial": 1,
   "eqLabelWithNumbers": true,
   "eqNumInitial": 1,
   "hotkeys": {
    "equation": "Ctrl-E",
    "itemize": "Ctrl-I"
   },
   "labels_anchors": false,
   "latex_user_defs": false,
   "report_style_numbering": false,
   "user_envs_cfg": false
  }
 },
 "nbformat": 4,
 "nbformat_minor": 2
}
