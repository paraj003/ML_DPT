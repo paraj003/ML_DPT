{
 "cells": [
  {
   "cell_type": "markdown",
   "metadata": {},
   "source": [
    "# Can Neural Networks detect Dynamical Phase Transitions ?\n",
    "\n",
    "Can the recurrent neural network protocol developed by Evert et. al \\cite{Evert2018PRB} detect dynamical phase transitions ? There are several questions one can probe here:\n",
    "\\begin{enumerate}\n",
    "\\item Does the RNN correctly predict the phase transition? Quenches across the critical point have non-analyticities.\n",
    "\\item What do the Neurons learn? Can they predict the time at which the non-analyticities appear ?\n",
    "\\end{enumerate}"
   ]
  },
  {
   "cell_type": "markdown",
   "metadata": {},
   "source": [
    "# Code to simulate NN Transverse Field Ising model\n",
    "We have the following Hamiltonian\n",
    "\\begin{align}\n",
    "H&=-J\\sum_{i} \\sigma_{i}^{x}\\sigma_{i+1}^{x}-\\Gamma\\sum_{i}\\sigma_{i}^{z}\n",
    "\\end{align}\n",
    "\n",
    "Now we recall the main results for diagonalizing the TFIM. With the Jordan-Wigner Transform, we get\n",
    "\\begin{align}\n",
    "H_{\\eta}=J\\sum_{i=1}^{L-1}\\left(a_{\\eta,i}-a_{\\eta,i}^{\\dagger}\\right)\\left(a_{\\eta,i+1}+a_{\\eta,i+1}^{\\dagger}\\right)+B\\sum_{i=1}^{L}\\left(2a_{\\eta,i}^{\\dagger}a_{\\eta,i}-1\\right)+\\eta\\left(a_{\\eta,L}-a_{\\eta,L}^{\\dagger}\\right)\\left(a_{\\eta,1}+a_{\\eta,1}^{\\dagger}\\right)\n",
    "\\end{align}\n",
    "where, $\\eta=\\pm 1$ denotes the even and odd parity sector. We will focus largely on $\\eta=1$.\n",
    "\n",
    "Now, we diagonalize the above Hamiltonian to obtain the dispersion,\n",
    "\\begin{align}\n",
    "H_{\\eta}&=\\frac{\\Gamma}{2}+\\sum_{q_{\\eta}>0}\\omega_{q_{\\eta}}\\left(\\gamma_{\\eta,q_{\\eta}}^{\\dagger}\\gamma_{\\eta,q_{\\eta}}+\\gamma_{\\eta,-q_{\\eta}}^{\\dagger}\\gamma_{\\eta,-q_{\\eta}}-1\\right)\\\\\n",
    "\\gamma_{\\eta,q_{\\eta}}&=u_{q_{\\eta}}b_{\\eta,q{}_{\\eta}}+iv_{q_{\\eta}}b_{\\eta,-q{}_{\\eta}}^{\\dagger}\\\\\n",
    "    \\omega_{q_{\\eta}}&=2\\sqrt{\\Gamma^{2}-\\Gamma J\\cos q_{\\eta}+J^{2}} \\\\\n",
    "|\\phi_{\\rm GS}\\rangle&=\\frac{1}{\\left|v_{q_{\\eta}}\\right|}\\prod_{q_{\\eta}>0}\\gamma_{q_{\\eta}}\\gamma_{-q_{\\eta}}|0\\rangle\\\\\n",
    " u_{q_{\\eta}}=\\cos\\theta_{q_{\\eta}},\\ \\  v_{q_{\\eta}}=\\sin\\theta_{q_{\\eta}}& \\ \\ \\ \\tan2\\theta_{q_{\\eta}}=\\frac{J\\sin q_{\\eta}}{\\Gamma-J\\cos q_{\\eta}}\n",
    "\\end{align}\n",
    "with, $q_{\\eta}=\\left(2m+\\frac{1}{2}\\left(\\eta-1\\right)\\right)\\frac{\\pi}{L}$.   with $\\eta=1$\n",
    "\n",
    " \\underline{Quench Dynamics}\n",
    "\n",
    "Now, to discuss quench dynamics from $\\Gamma_0 \\rightarrow \\Gamma$. Let the angle change from $\\theta_{q0}\\rightarrow \\theta_q$. Defining $\\alpha_q=\\theta_q-\\theta_{q0}$, we have the initial state as the ground state.\n",
    "\\begin{align}\n",
    "|\\psi_{\\rm in}\\rangle=\\prod_{q>0}(\\cos\\alpha_q+i\\sin\\alpha_q \\gamma^\\dagger_q\\gamma^\\dagger_{-q})|\\phi_{\\rm GS}\\rangle\n",
    "\\end{align}\n",
    "\n",
    "\n",
    "The Loschmidt Echo is given as,\n",
    "\\begin{align}\n",
    "\\Lambda(t)=\\left|\\left(\\langle \\psi_{\\rm in} |\\exp (-iHt)|\\psi_{\\rm in}\\rangle\\right)\\right|^2 = \\prod_{q>0} [1-\\sin^2(2\\alpha_q)\\sin^2(\\omega_qt)]\n",
    "\\end{align}"
   ]
  },
  {
   "cell_type": "code",
   "execution_count": 2,
   "metadata": {
    "scrolled": true
   },
   "outputs": [
    {
     "name": "stderr",
     "output_type": "stream",
     "text": [
      "/home/paraj/.local/lib/python3.5/site-packages/h5py/__init__.py:36: FutureWarning: Conversion of the second argument of issubdtype from `float` to `np.floating` is deprecated. In future, it will be treated as `np.float64 == np.dtype(float).type`.\n",
      "  from ._conv import register_converters as _register_converters\n"
     ]
    }
   ],
   "source": [
    "import numpy as np\n",
    "from scipy import linalg as LA\n",
    "import scipy.sparse.linalg as spla\n",
    "from scipy import optimize as OPT\n",
    "from matplotlib import pyplot as plt\n",
    "from matplotlib.pyplot import cm \n",
    "from latex_envs.latex_envs import figcaption\n",
    "from scipy.special import binom as bm\n",
    "from sympy.physics.quantum.cg import CG\n",
    "import numpy.matlib\n",
    "#import chardet\n",
    "import os\n",
    "import h5py\n",
    "#for Latex font on figures\n",
    "from matplotlib import rc\n",
    "rc('font',**{'family':'sans-serif','sans-serif':['Roman']})\n",
    "rc('text', usetex=True)"
   ]
  },
  {
   "cell_type": "code",
   "execution_count": null,
   "metadata": {},
   "outputs": [],
   "source": [
    "####################Function Definitions#############\n",
    "def Loschmidt_Echo_TFIM()"
   ]
  },
  {
   "cell_type": "code",
   "execution_count": 19,
   "metadata": {},
   "outputs": [],
   "source": [
    "######################Parameter definitions###################\n",
    "#Global definitions\n",
    "L=100 #System size\n",
    "η=1 #parity sector\n",
    "\n",
    "#Initial state\n",
    "J0=1\n",
    "Γ=0\n",
    "#quench Hamiltonian\n",
    "J=1 \n",
    "Γ=2\n",
    "T=100.\n",
    "\n",
    "#define arrays\n",
    "qarr=(2*np.arange(0,L/2)+0.5*(η-1))*np.pi/L # array with only positive q values\n",
    "tarr=np.linspace(0,T,100)\n",
    "Λ=np.zeros(np.size(tarr))\n",
    "ωqarr= 2*np.sqrt(Γ**2+J**2-Γ*J*(np.cos(qarr)))"
   ]
  },
  {
   "cell_type": "code",
   "execution_count": 14,
   "metadata": {},
   "outputs": [],
   "source": [
    "for t in tarr:\n",
    "    for q in qarr:\n",
    "        Λ[]"
   ]
  },
  {
   "cell_type": "code",
   "execution_count": 16,
   "metadata": {},
   "outputs": [
    {
     "data": {
      "text/plain": [
       "array([0.00000000e+00, 1.97327157e-03, 7.88529869e-03, 1.77127493e-02,\n",
       "       3.14168389e-02, 4.89434837e-02, 7.02235141e-02, 9.51729475e-02,\n",
       "       1.23693320e-01, 1.55672074e-01, 1.90983006e-01, 2.29486757e-01,\n",
       "       2.71031373e-01, 3.15452894e-01, 3.62576010e-01, 4.12214748e-01,\n",
       "       4.64173205e-01, 5.18246326e-01, 5.74220708e-01, 6.31875447e-01,\n",
       "       6.90983006e-01, 7.51310113e-01, 8.12618685e-01, 8.74666766e-01,\n",
       "       9.37209480e-01, 1.00000000e+00, 1.06279052e+00, 1.12533323e+00,\n",
       "       1.18738131e+00, 1.24868989e+00, 1.30901699e+00, 1.36812455e+00,\n",
       "       1.42577929e+00, 1.48175367e+00, 1.53582679e+00, 1.58778525e+00,\n",
       "       1.63742399e+00, 1.68454711e+00, 1.72896863e+00, 1.77051324e+00,\n",
       "       1.80901699e+00, 1.84432793e+00, 1.87630668e+00, 1.90482705e+00,\n",
       "       1.92977649e+00, 1.95105652e+00, 1.96858316e+00, 1.98228725e+00,\n",
       "       1.99211470e+00, 1.99802673e+00, 2.00000000e+00, 1.99802673e+00,\n",
       "       1.99211470e+00, 1.98228725e+00, 1.96858316e+00, 1.95105652e+00,\n",
       "       1.92977649e+00, 1.90482705e+00, 1.87630668e+00, 1.84432793e+00,\n",
       "       1.80901699e+00, 1.77051324e+00, 1.72896863e+00, 1.68454711e+00,\n",
       "       1.63742399e+00, 1.58778525e+00, 1.53582679e+00, 1.48175367e+00,\n",
       "       1.42577929e+00, 1.36812455e+00, 1.30901699e+00, 1.24868989e+00,\n",
       "       1.18738131e+00, 1.12533323e+00, 1.06279052e+00, 1.00000000e+00,\n",
       "       9.37209480e-01, 8.74666766e-01, 8.12618685e-01, 7.51310113e-01,\n",
       "       6.90983006e-01, 6.31875447e-01, 5.74220708e-01, 5.18246326e-01,\n",
       "       4.64173205e-01, 4.12214748e-01, 3.62576010e-01, 3.15452894e-01,\n",
       "       2.71031373e-01, 2.29486757e-01, 1.90983006e-01, 1.55672074e-01,\n",
       "       1.23693320e-01, 9.51729475e-02, 7.02235141e-02, 4.89434837e-02,\n",
       "       3.14168389e-02, 1.77127493e-02, 7.88529869e-03, 1.97327157e-03])"
      ]
     },
     "execution_count": 16,
     "metadata": {},
     "output_type": "execute_result"
    }
   ],
   "source": [
    "1+np.cos(qarr)"
   ]
  },
  {
   "cell_type": "code",
   "execution_count": null,
   "metadata": {},
   "outputs": [],
   "source": []
  },
  {
   "cell_type": "markdown",
   "metadata": {},
   "source": [
    "# References\n",
    "\n",
    "[<a id=\"cit-Evert2018PRB\" href=\"#call-Evert2018PRB\">1</a>] van Nieuwenburg Evert, Bairey Eyal and Refael Gil, ``_Learning phase transitions from dynamics_'', Phys. Rev. B, vol. 98, number , pp. 060301, Aug 2018.  [online](https://link.aps.org/doi/10.1103/PhysRevB.98.060301)\n",
    "\n"
   ]
  }
 ],
 "metadata": {
  "kernelspec": {
   "display_name": "Python 3",
   "language": "python",
   "name": "python3"
  },
  "language_info": {
   "codemirror_mode": {
    "name": "ipython",
    "version": 3
   },
   "file_extension": ".py",
   "mimetype": "text/x-python",
   "name": "python",
   "nbconvert_exporter": "python",
   "pygments_lexer": "ipython3",
   "version": "3.5.2"
  },
  "latex_envs": {
   "LaTeX_envs_menu_present": true,
   "autoclose": false,
   "autocomplete": true,
   "bibliofile": "refs_ML_DPT.bib",
   "cite_by": "number",
   "current_citInitial": 1,
   "eqLabelWithNumbers": true,
   "eqNumInitial": 1,
   "hotkeys": {
    "equation": "Ctrl-E",
    "itemize": "Ctrl-I"
   },
   "labels_anchors": false,
   "latex_user_defs": false,
   "report_style_numbering": false,
   "user_envs_cfg": false
  }
 },
 "nbformat": 4,
 "nbformat_minor": 2
}
